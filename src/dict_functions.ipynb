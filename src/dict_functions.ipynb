{
 "cells": [
  {
   "cell_type": "code",
   "execution_count": null,
   "metadata": {},
   "outputs": [],
   "source": [
    "import json\n",
    "import ast\n",
    "from collections import Counter\n",
    "with open('Combinaciones.json', 'r', encoding='utf-8') as file:\n",
    "    combinaciones = json.load(file)"
   ]
  },
  {
   "cell_type": "code",
   "execution_count": null,
   "metadata": {},
   "outputs": [],
   "source": [
    "def transform_dict(original_dict):\n",
    "    new_dict = {}\n",
    "    for key, value in original_dict.items():\n",
    "        try:\n",
    "            new_key = ast.literal_eval(key)\n",
    "            if isinstance(new_key, list):\n",
    "                new_key = tuple(sorted(Counter(new_key).items())) \n",
    "            new_dict[new_key] = value\n",
    "        except (ValueError, SyntaxError):\n",
    "            new_dict[key] = value\n",
    "    return new_dict\n",
    "\n",
    "def search_key(dict,key):\n",
    "    llave_ordenada = tuple(sorted(Counter(key).items()))\n",
    "    return dict.get(llave_ordenada, \"No se encontró la combinación\")"
   ]
  },
  {
   "cell_type": "code",
   "execution_count": null,
   "metadata": {},
   "outputs": [],
   "source": [
    "nuevo_diccionario = transform_dict(combinaciones)\n",
    "llave = ('H', 'H', 'N')\n",
    "search_key(nuevo_diccionario, llave)"
   ]
  }
 ],
 "metadata": {
  "kernelspec": {
   "display_name": ".venv",
   "language": "python",
   "name": "python3"
  },
  "language_info": {
   "codemirror_mode": {
    "name": "ipython",
    "version": 3
   },
   "file_extension": ".py",
   "mimetype": "text/x-python",
   "name": "python",
   "nbconvert_exporter": "python",
   "pygments_lexer": "ipython3",
   "version": "3.11.1"
  }
 },
 "nbformat": 4,
 "nbformat_minor": 2
}
